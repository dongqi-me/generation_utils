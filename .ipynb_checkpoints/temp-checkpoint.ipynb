{
 "cells": [
  {
   "cell_type": "code",
   "execution_count": null,
   "id": "ea1277f0",
   "metadata": {},
   "outputs": [],
   "source": [
    "import json\n",
    "import spacy\n",
    "from datasets import load_metric\n",
    "\n",
    "def compute_rouge_1(input_json_path, output_json_path):\n",
    "    # Load Spacy's English tokenizer\n",
    "    nlp = spacy.load('en_core_web_sm')\n",
    "\n",
    "    # Function to split text into sentences and add newlines\n",
    "    def add_newlines_to_sentences(text):\n",
    "        doc = nlp(text)\n",
    "        return '\\n'.join([sent.text for sent in doc.sents])\n",
    "\n",
    "    # Load data from the JSON file\n",
    "    with open(input_json_path, 'r') as f:\n",
    "        data = json.load(f)\n",
    "\n",
    "    # Initialize the Rouge calculator\n",
    "    rouge = load_metric('rouge')\n",
    "\n",
    "    # Initialize the results list\n",
    "    results = []\n",
    "\n",
    "    # For each pair of predicted and reference sentences, compute the Rouge score\n",
    "    for pair in data:\n",
    "        reference = add_newlines_to_sentences(pair['reference'])\n",
    "        prediction = add_newlines_to_sentences(pair['prediction'])\n",
    "        scores = rouge.compute(predictions=[prediction], references=[reference])\n",
    "\n",
    "        # Keep only the Rouge-1 score\n",
    "        rouge_1_score = scores[\"rouge1\"].mid.fmeasure\n",
    "\n",
    "        # Round the result to 4 decimal places\n",
    "        rouge_1_score = round(rouge_1_score, 4)\n",
    "\n",
    "        # Add to the results list\n",
    "        results.append(rouge_1_score)\n",
    "\n",
    "    # Compute and add the corpus-level results\n",
    "    average_score = round(sum(results) / len(results), 4)\n",
    "    results.append({'corpus_level': average_score})\n",
    "\n",
    "    # Write the results back to a JSON file\n",
    "    with open(output_json_path, 'w') as f:\n",
    "        json.dump(results, f)\n"
   ]
  }
 ],
 "metadata": {
  "kernelspec": {
   "display_name": "Python 3 (ipykernel)",
   "language": "python",
   "name": "python3"
  },
  "language_info": {
   "codemirror_mode": {
    "name": "ipython",
    "version": 3
   },
   "file_extension": ".py",
   "mimetype": "text/x-python",
   "name": "python",
   "nbconvert_exporter": "python",
   "pygments_lexer": "ipython3",
   "version": "3.9.12"
  }
 },
 "nbformat": 4,
 "nbformat_minor": 5
}
